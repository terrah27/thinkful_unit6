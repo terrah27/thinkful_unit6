{
 "cells": [
  {
   "cell_type": "markdown",
   "metadata": {},
   "source": [
    "# Topic Extraction Challenge\n",
    "### Comparing LSA, LDA, and NNMF\n",
    "\n",
    "#### Dataset: 20 newsgroups\n",
    "\n",
    "#### Method:\n",
    "1.  Parse and process the data into a tf-idf matrix.\n",
    "2.  Fit LSA, LDA, and NNMF models with 5 topics each.\n",
    "3.  Extract the words that best describe each topic.\n",
    "4.  Examine the topic relationships for top words."
   ]
  },
  {
   "cell_type": "code",
   "execution_count": 1,
   "metadata": {},
   "outputs": [],
   "source": [
    "import pandas as pd\n",
    "import numpy as np\n",
    "import scipy\n",
    "\n",
    "import spacy\n",
    "import nltk\n",
    "import re\n",
    "\n",
    "import matplotlib.pyplot as plt\n",
    "import seaborn as sns\n",
    "\n",
    "from sklearn.feature_extraction.text import TfidfVectorizer\n",
    "np.random.seed(27)"
   ]
  },
  {
   "cell_type": "code",
   "execution_count": 34,
   "metadata": {},
   "outputs": [],
   "source": [
    "# setting up default plotting parameters\n",
    "%matplotlib inline\n",
    "\n",
    "plt.rcParams['figure.figsize'] = [20.0, 7.0]\n",
    "plt.rcParams.update({'font.size': 22,})\n",
    "\n",
    "sns.set_palette('Set2')\n",
    "sns.set_style('white')\n",
    "sns.set_context('talk', font_scale=0.8)"
   ]
  },
  {
   "cell_type": "code",
   "execution_count": 2,
   "metadata": {},
   "outputs": [],
   "source": [
    "#Loading the data set - training data.\n",
    "from sklearn.datasets import fetch_20newsgroups\n",
    "newsgroups = fetch_20newsgroups(shuffle=True, remove=('headers', 'footers'))"
   ]
  },
  {
   "cell_type": "code",
   "execution_count": 3,
   "metadata": {},
   "outputs": [
    {
     "data": {
      "text/plain": [
       "sklearn.utils.Bunch"
      ]
     },
     "execution_count": 3,
     "metadata": {},
     "output_type": "execute_result"
    }
   ],
   "source": [
    "type(newsgroups)"
   ]
  },
  {
   "cell_type": "code",
   "execution_count": 4,
   "metadata": {},
   "outputs": [
    {
     "data": {
      "text/plain": [
       "dict_keys(['data', 'filenames', 'target_names', 'target', 'DESCR'])"
      ]
     },
     "execution_count": 4,
     "metadata": {},
     "output_type": "execute_result"
    }
   ],
   "source": [
    "newsgroups.keys()"
   ]
  },
  {
   "cell_type": "code",
   "execution_count": 5,
   "metadata": {},
   "outputs": [
    {
     "data": {
      "text/plain": [
       "['alt.atheism',\n",
       " 'comp.graphics',\n",
       " 'comp.os.ms-windows.misc',\n",
       " 'comp.sys.ibm.pc.hardware',\n",
       " 'comp.sys.mac.hardware',\n",
       " 'comp.windows.x',\n",
       " 'misc.forsale',\n",
       " 'rec.autos',\n",
       " 'rec.motorcycles',\n",
       " 'rec.sport.baseball',\n",
       " 'rec.sport.hockey',\n",
       " 'sci.crypt',\n",
       " 'sci.electronics',\n",
       " 'sci.med',\n",
       " 'sci.space',\n",
       " 'soc.religion.christian',\n",
       " 'talk.politics.guns',\n",
       " 'talk.politics.mideast',\n",
       " 'talk.politics.misc',\n",
       " 'talk.religion.misc']"
      ]
     },
     "execution_count": 5,
     "metadata": {},
     "output_type": "execute_result"
    }
   ],
   "source": [
    "newsgroups.target_names"
   ]
  },
  {
   "cell_type": "code",
   "execution_count": 6,
   "metadata": {},
   "outputs": [
    {
     "data": {
      "text/html": [
       "<div>\n",
       "<style scoped>\n",
       "    .dataframe tbody tr th:only-of-type {\n",
       "        vertical-align: middle;\n",
       "    }\n",
       "\n",
       "    .dataframe tbody tr th {\n",
       "        vertical-align: top;\n",
       "    }\n",
       "\n",
       "    .dataframe thead th {\n",
       "        text-align: right;\n",
       "    }\n",
       "</style>\n",
       "<table border=\"1\" class=\"dataframe\">\n",
       "  <thead>\n",
       "    <tr style=\"text-align: right;\">\n",
       "      <th></th>\n",
       "      <th>target</th>\n",
       "      <th>data</th>\n",
       "    </tr>\n",
       "  </thead>\n",
       "  <tbody>\n",
       "    <tr>\n",
       "      <th>0</th>\n",
       "      <td>7</td>\n",
       "      <td>I was wondering if anyone out there could enli...</td>\n",
       "    </tr>\n",
       "    <tr>\n",
       "      <th>1</th>\n",
       "      <td>4</td>\n",
       "      <td>A fair number of brave souls who upgraded thei...</td>\n",
       "    </tr>\n",
       "    <tr>\n",
       "      <th>2</th>\n",
       "      <td>4</td>\n",
       "      <td>well folks, my mac plus finally gave up the gh...</td>\n",
       "    </tr>\n",
       "    <tr>\n",
       "      <th>3</th>\n",
       "      <td>1</td>\n",
       "      <td>Robert J.C. Kyanko (rob@rjck.UUCP) wrote:\\n&gt; a...</td>\n",
       "    </tr>\n",
       "    <tr>\n",
       "      <th>4</th>\n",
       "      <td>14</td>\n",
       "      <td>From article &lt;C5owCB.n3p@world.std.com&gt;, by to...</td>\n",
       "    </tr>\n",
       "  </tbody>\n",
       "</table>\n",
       "</div>"
      ],
      "text/plain": [
       "   target                                               data\n",
       "0       7  I was wondering if anyone out there could enli...\n",
       "1       4  A fair number of brave souls who upgraded thei...\n",
       "2       4  well folks, my mac plus finally gave up the gh...\n",
       "3       1  Robert J.C. Kyanko (rob@rjck.UUCP) wrote:\\n> a...\n",
       "4      14  From article <C5owCB.n3p@world.std.com>, by to..."
      ]
     },
     "execution_count": 6,
     "metadata": {},
     "output_type": "execute_result"
    }
   ],
   "source": [
    "df = pd.DataFrame(newsgroups.data, newsgroups.target).reset_index()\n",
    "df.columns = ['target', 'data']\n",
    "df.head()"
   ]
  },
  {
   "cell_type": "code",
   "execution_count": 7,
   "metadata": {},
   "outputs": [
    {
     "data": {
      "text/plain": [
       "'I was wondering if anyone out there could enlighten me on this car I saw\\nthe other day. It was a 2-door sports car, looked to be from the late 60s/\\nearly 70s. It was called a Bricklin. The doors were really small. In addition,\\nthe front bumper was separate from the rest of the body. This is \\nall I know. If anyone can tellme a model name, engine specs, years\\nof production, where this car is made, history, or whatever info you\\nhave on this funky looking car, please e-mail.'"
      ]
     },
     "execution_count": 7,
     "metadata": {},
     "output_type": "execute_result"
    }
   ],
   "source": [
    "sample_data = df.iloc[0,1]\n",
    "sample_data"
   ]
  },
  {
   "cell_type": "code",
   "execution_count": 10,
   "metadata": {},
   "outputs": [],
   "source": [
    "contractions = {\n",
    "\"ain't\": \"is not\",\n",
    "\"aren't\": \"are not\",\n",
    "\"can't\": \"cannot\",\n",
    "\"can't've\": \"cannot have\",\n",
    "\"'cause\": \"because\",\n",
    "\"could've\": \"could have\",\n",
    "\"couldn't\": \"could not\",\n",
    "\"couldn't've\": \"could not have\",\n",
    "\"didn't\": \"did not\",\n",
    "\"doesn't\": \"does not\",\n",
    "\"don't\": \"do not\",\n",
    "\"hadn't\": \"had not\",\n",
    "\"hadn't've\": \"had not have\",\n",
    "\"hasn't\": \"has not\",\n",
    "\"haven't\": \"have not\",\n",
    "\"he'd\": \"he would\",\n",
    "\"he'd've\": \"he would have\",\n",
    "\"he'll\": \"he will\",\n",
    "\"he'll've\": \"he he will have\",\n",
    "\"he's\": \"he is\",\n",
    "\"how'd\": \"how did\",\n",
    "\"how'd'y\": \"how do you\",\n",
    "\"how'll\": \"how will\",\n",
    "\"how's\": \"how is\",\n",
    "\"I'd\": \"I would\",\n",
    "\"I'd've\": \"I would have\",\n",
    "\"I'll\": \"I will\",\n",
    "\"I'll've\": \"I will have\",\n",
    "\"I'm\": \"I am\",\n",
    "\"I've\": \"I have\",\n",
    "\"i'd\": \"i would\",\n",
    "\"i'd've\": \"i would have\",\n",
    "\"i'll\": \"i will\",\n",
    "\"i'll've\": \"i will have\",\n",
    "\"i'm\": \"i am\",\n",
    "\"i've\": \"i have\",\n",
    "\"isn't\": \"is not\",\n",
    "\"it'd\": \"it would\",\n",
    "\"it'd've\": \"it would have\",\n",
    "\"it'll\": \"it will\",\n",
    "\"it'll've\": \"it will have\",\n",
    "\"it's\": \"it is\",\n",
    "\"let's\": \"let us\",\n",
    "\"ma'am\": \"madam\",\n",
    "\"mayn't\": \"may not\",\n",
    "\"might've\": \"might have\",\n",
    "\"mightn't\": \"might not\",\n",
    "\"mightn't've\": \"might not have\",\n",
    "\"must've\": \"must have\",\n",
    "\"mustn't\": \"must not\",\n",
    "\"mustn't've\": \"must not have\",\n",
    "\"needn't\": \"need not\",\n",
    "\"needn't've\": \"need not have\",\n",
    "\"o'clock\": \"of the clock\",\n",
    "\"oughtn't\": \"ought not\",\n",
    "\"oughtn't've\": \"ought not have\",\n",
    "\"shan't\": \"shall not\",\n",
    "\"sha'n't\": \"shall not\",\n",
    "\"shan't've\": \"shall not have\",\n",
    "\"she'd\": \"she would\",\n",
    "\"she'd've\": \"she would have\",\n",
    "\"she'll\": \"she will\",\n",
    "\"she'll've\": \"she will have\",\n",
    "\"she's\": \"she is\",\n",
    "\"should've\": \"should have\",\n",
    "\"shouldn't\": \"should not\",\n",
    "\"shouldn't've\": \"should not have\",\n",
    "\"so've\": \"so have\",\n",
    "\"so's\": \"so as\",\n",
    "\"that'd\": \"that would\",\n",
    "\"that'd've\": \"that would have\",\n",
    "\"that's\": \"that is\",\n",
    "\"there'd\": \"there would\",\n",
    "\"there'd've\": \"there would have\",\n",
    "\"there's\": \"there is\",\n",
    "\"they'd\": \"they would\",\n",
    "\"they'd've\": \"they would have\",\n",
    "\"they'll\": \"they will\",\n",
    "\"they'll've\": \"they will have\",\n",
    "\"they're\": \"they are\",\n",
    "\"they've\": \"they have\",\n",
    "\"to've\": \"to have\",\n",
    "\"wasn't\": \"was not\",\n",
    "\"we'd\": \"we would\",\n",
    "\"we'd've\": \"we would have\",\n",
    "\"we'll\": \"we will\",\n",
    "\"we'll've\": \"we will have\",\n",
    "\"we're\": \"we are\",\n",
    "\"we've\": \"we have\",\n",
    "\"weren't\": \"were not\",\n",
    "\"what'll\": \"what will\",\n",
    "\"what'll've\": \"what will have\",\n",
    "\"what're\": \"what are\",\n",
    "\"what's\": \"what is\",\n",
    "\"what've\": \"what have\",\n",
    "\"when's\": \"when is\",\n",
    "\"when've\": \"when have\",\n",
    "\"where'd\": \"where did\",\n",
    "\"where's\": \"where is\",\n",
    "\"where've\": \"where have\",\n",
    "\"who'll\": \"who will\",\n",
    "\"who'll've\": \"who will have\",\n",
    "\"who's\": \"who is\",\n",
    "\"who've\": \"who have\",\n",
    "\"why's\": \"why is\",\n",
    "\"why've\": \"why have\",\n",
    "\"will've\": \"will have\",\n",
    "\"won't\": \"will not\",\n",
    "\"won't've\": \"will not have\",\n",
    "\"would've\": \"would have\",\n",
    "\"wouldn't\": \"would not\",\n",
    "\"wouldn't've\": \"would not have\",\n",
    "\"y'all\": \"you all\",\n",
    "\"y'all'd\": \"you all would\",\n",
    "\"y'all'd've\": \"you all would have\",\n",
    "\"y'all're\": \"you all are\",\n",
    "\"y'all've\": \"you all have\",\n",
    "\"you'd\": \"you would\",\n",
    "\"you'd've\": \"you would have\",\n",
    "\"you'll\": \"you will\",\n",
    "\"you'll've\": \"you will have\",\n",
    "\"you're\": \"you are\",\n",
    "\"you've\": \"you have\"\n",
    "}\n",
    "\n",
    "c_re = re.compile('(%s)' % '|'.join(contractions.keys()))\n",
    "\n",
    "def expandContractions(text, c_re=c_re):\n",
    "    def replace(match):\n",
    "        return contractions[match.group(0)]\n",
    "    return c_re.sub(replace, text)"
   ]
  },
  {
   "cell_type": "code",
   "execution_count": 11,
   "metadata": {},
   "outputs": [
    {
     "data": {
      "text/plain": [
       "0    [line, ducati, gts, model, clock, run, paint, ...\n",
       "1    [article, freenet, carleton, freenet, carleton...\n",
       "2                                                   []\n",
       "3    [article, kjenks, gothamcity, jsc, nasa, gov, ...\n",
       "4    [reduce, price, list, thing, forsale, behalf, ...\n",
       "dtype: object"
      ]
     },
     "execution_count": 11,
     "metadata": {},
     "output_type": "execute_result"
    }
   ],
   "source": [
    "from gensim.parsing.preprocessing import preprocess_string\n",
    "from gensim.parsing.preprocessing import strip_tags, strip_punctuation, strip_numeric\n",
    "from gensim.parsing.preprocessing import strip_multiple_whitespaces, strip_non_alphanum, remove_stopwords, strip_short\n",
    "\n",
    "CUSTOM_FILTERS = [lambda x: x.lower(), #lowercase\n",
    "                  strip_tags, # remove html tags\n",
    "                  strip_punctuation, # replace punctuation with space\n",
    "                  strip_multiple_whitespaces,# remove repeating whitespaces\n",
    "                  strip_non_alphanum, # remove non-alphanumeric characters\n",
    "                  strip_numeric, # remove numbers\n",
    "                  remove_stopwords,# remove stopwords\n",
    "                  strip_short # remove words less than minsize=3 characters long\n",
    "                 ]\n",
    "nlp = spacy.load('en')\n",
    "\n",
    "def gensim_preprocess(docs, logging=True):\n",
    "    docs = [expandContractions(doc) for doc in docs]\n",
    "    docs = [preprocess_string(text, CUSTOM_FILTERS) for text in docs]\n",
    "    texts_out = []\n",
    "    for doc in docs:\n",
    "    # https://spacy.io/usage/processing-pipelines\n",
    "        doc = nlp((\" \".join(doc)),  # doc = text to tokenize => creates doc\n",
    "                  # disable parts of the language processing pipeline we don't need here to speed up processing\n",
    "                  disable=['ner', # named entity recognition\n",
    "                           'tagger', # part-of-speech tagger\n",
    "                           'textcat', # document label categorizer\n",
    "                          ])\n",
    "        texts_out.append([tok.lemma_ for tok in doc if tok.lemma_ != '-PRON-'])\n",
    "    return pd.Series(texts_out)\n",
    "\n",
    "gensim_preprocess(df.data.iloc[10:15])"
   ]
  },
  {
   "cell_type": "code",
   "execution_count": 12,
   "metadata": {},
   "outputs": [],
   "source": [
    "texts = gensim_preprocess(df.data)"
   ]
  },
  {
   "cell_type": "code",
   "execution_count": 17,
   "metadata": {},
   "outputs": [
    {
     "data": {
      "text/plain": [
       "'wonder enlighten car see day door sport car look late early call bricklin door small addition bumper separate rest body know tellme model engine spec year production car history info funky look car mail'"
      ]
     },
     "execution_count": 17,
     "metadata": {},
     "output_type": "execute_result"
    }
   ],
   "source": [
    "texts = [' '.join(text) for text in texts]\n",
    "texts[0]"
   ]
  },
  {
   "cell_type": "code",
   "execution_count": 29,
   "metadata": {},
   "outputs": [],
   "source": [
    "# sklearn tfidf\n",
    "vectorizer = TfidfVectorizer()\n",
    "sklearn_tfidf = vectorizer.fit_transform(texts)\n",
    "\n",
    "# Getting the word list.\n",
    "terms = vectorizer.get_feature_names()\n",
    "\n",
    "# Number of topics.\n",
    "ntopics=len(newsgroups.target_names)\n",
    "\n",
    "# Linking words to topics\n",
    "def word_topic(tfidf, solution, wordlist):\n",
    "    \n",
    "    # Loading scores for each word on each topic/component.\n",
    "    words_by_topic=tfidf.T * solution\n",
    "\n",
    "    # Linking the loadings to the words in an easy-to-read way.\n",
    "    components=pd.DataFrame(words_by_topic,index=wordlist)\n",
    "    \n",
    "    return components\n",
    "\n",
    "# Extracts the top N words and their loadings for each topic.\n",
    "def top_words(components, n_top_words):\n",
    "    n_topics = range(components.shape[1])\n",
    "    index= np.repeat(n_topics, n_top_words, axis=0)\n",
    "    topwords=pd.Series(index=index)\n",
    "    for column in range(components.shape[1]):\n",
    "        # Sort the column so that highest loadings are at the top.\n",
    "        sortedwords=components.iloc[:,column].sort_values(ascending=False)\n",
    "        # Choose the N highest loadings.\n",
    "        chosen=sortedwords[:n_top_words]\n",
    "        # Combine loading and index into a string.\n",
    "        chosenlist=chosen.index +\" \"+round(chosen,2).map(str) \n",
    "        topwords.loc[column]=chosenlist\n",
    "    return(topwords)\n",
    "\n",
    "# Number of words to look at for each topic.\n",
    "n_top_words = 10"
   ]
  },
  {
   "cell_type": "code",
   "execution_count": 19,
   "metadata": {},
   "outputs": [
    {
     "name": "stdout",
     "output_type": "stream",
     "text": [
      "CPU times: user 929 ms, sys: 107 ms, total: 1.04 s\n",
      "Wall time: 674 ms\n"
     ]
    }
   ],
   "source": [
    "# LSA\n",
    "\n",
    "from sklearn.decomposition import TruncatedSVD\n",
    "from sklearn.pipeline import make_pipeline\n",
    "from sklearn.preprocessing import Normalizer\n",
    "\n",
    "svd= TruncatedSVD(ntopics)\n",
    "lsa = make_pipeline(svd, Normalizer(copy=False))\n",
    "%time lsa = lsa.fit_transform(sklearn_tfidf)\n",
    "\n",
    "components_lsa = word_topic(sklearn_tfidf, lsa, terms)\n",
    "\n",
    "topwords=pd.DataFrame()\n",
    "topwords['LSA']=top_words(components_lsa, n_top_words)                \n"
   ]
  },
  {
   "cell_type": "code",
   "execution_count": 20,
   "metadata": {},
   "outputs": [
    {
     "name": "stdout",
     "output_type": "stream",
     "text": [
      "CPU times: user 3min 19s, sys: 5min 3s, total: 8min 22s\n",
      "Wall time: 9min 10s\n"
     ]
    }
   ],
   "source": [
    "# LDA\n",
    "from sklearn.decomposition import LatentDirichletAllocation as LDA\n",
    "\n",
    "lda = LDA(n_components=ntopics, \n",
    "          doc_topic_prior=None, # Prior = 1/n_documents\n",
    "          topic_word_prior=1/ntopics,\n",
    "          learning_decay=0.7,# Convergence rate.\n",
    "          learning_method='online',\n",
    "          learning_offset=10.0, # Causes earlier iterations to have less influence on the learning\n",
    "          max_iter=10, # when to stop even if the model is not converging (to prevent running forever)\n",
    "          evaluate_every=-1, # Do not evaluate perplexity, as it slows training time.\n",
    "          mean_change_tol=0.01, # Stop updating the document topic distribution in the E-step when mean change is < tol\n",
    "          max_doc_update_iter=10, # When to stop updating the document topic distribution in the E-step even if tol is not reached\n",
    "          n_jobs=-1, # Use all available CPUs to speed up processing time.\n",
    "          verbose=0, # amount of output to give while iterating\n",
    "         )\n",
    "\n",
    "%time lda = lda.fit_transform(sklearn_tfidf) \n",
    "\n",
    "components_lda = word_topic(sklearn_tfidf, lda, terms)\n",
    "\n",
    "topwords['LDA']=top_words(components_lda, n_top_words)\n"
   ]
  },
  {
   "cell_type": "code",
   "execution_count": 21,
   "metadata": {},
   "outputs": [
    {
     "name": "stdout",
     "output_type": "stream",
     "text": [
      "CPU times: user 6.57 s, sys: 287 ms, total: 6.86 s\n",
      "Wall time: 5.69 s\n"
     ]
    }
   ],
   "source": [
    "# NNMF\n",
    "\n",
    "from sklearn.decomposition import NMF\n",
    "\n",
    "nmf = NMF(alpha=0.0, \n",
    "          init='nndsvdar', # how starting value are calculated\n",
    "          l1_ratio=0.0, # Sets whether regularization is L2 (0), L1 (1), or a combination (values between 0 and 1)\n",
    "          max_iter=200, # when to stop even if the model is not converging (to prevent running forever)\n",
    "          n_components=ntopics, \n",
    "          random_state=0, \n",
    "          solver='cd', # Use Coordinate Descent to solve\n",
    "          tol=0.0001, # model will stop if tfidf-WH <= tol\n",
    "          verbose=0 # amount of output to give while iterating\n",
    "         )\n",
    "%time nmf = nmf.fit_transform(sklearn_tfidf) \n",
    "\n",
    "components_nmf = word_topic(sklearn_tfidf, nmf, terms)\n",
    "\n",
    "topwords['NNMF']=top_words(components_nmf, n_top_words)"
   ]
  },
  {
   "cell_type": "code",
   "execution_count": 22,
   "metadata": {},
   "outputs": [
    {
     "name": "stdout",
     "output_type": "stream",
     "text": [
      "Topic 0:\n",
      "             LSA           LDA         NNMF\n",
      "0   write 140.67    write 1.74  people 3.08\n",
      "0  article 116.0  article 1.44    think 2.6\n",
      "0    know 108.15     know 1.41    know 2.38\n",
      "0     edu 105.28      edu 1.34    like 2.21\n",
      "0     like 99.22    thank 1.25   write 2.18\n",
      "0    think 98.71     like 1.18    time 1.92\n",
      "0   people 93.01    think 1.08  article 1.8\n",
      "0     time 80.67   window 1.07      say 1.8\n",
      "0      com 77.78      com 0.97   thing 1.76\n",
      "0       use 74.4      use 0.95      go 1.73\n",
      "Topic 1:\n",
      "             LSA           LDA              NNMF\n",
      "1   window 59.04    write 1.79       window 8.86\n",
      "1    thank 31.84  article 1.47          dos 2.33\n",
      "1     file 31.64     know 1.46          run 1.92\n",
      "1     card 31.07       edu 1.4          file 1.8\n",
      "1    drive 26.34    thank 1.28      program 1.62\n",
      "1      dos 23.48     like 1.25          use 1.42\n",
      "1  program 22.14    think 1.12        driver 1.3\n",
      "1   driver 21.44   window 1.09       problem 1.3\n",
      "1      use 19.86      com 0.99  application 1.28\n",
      "1      run 19.59      use 0.99      manager 1.16\n",
      "Topic 2:\n",
      "            LSA           LDA         NNMF\n",
      "2    game 51.44    write 1.74    game 7.81\n",
      "2    team 39.16  article 1.44    team 5.74\n",
      "2    year 28.46     know 1.41     win 3.71\n",
      "2  player 26.77      edu 1.34  player 3.58\n",
      "2    play 26.39    thank 1.25    play 3.46\n",
      "2     win 23.24     like 1.18    year 2.91\n",
      "2  season 19.09    think 1.08  season 2.42\n",
      "2  hockey 16.15   window 1.07   score 2.37\n",
      "2     fan 15.82      com 0.97  hockey 2.23\n",
      "2   score 15.49      use 0.95    well 1.96\n",
      "Topic 3:\n",
      "                LSA           LDA             NNMF\n",
      "3         key 47.31    write 1.89          key 9.2\n",
      "3        chip 31.24  article 1.59        chip 5.17\n",
      "3  encryption 22.13     know 1.49  encryption 3.58\n",
      "3  government 20.35      edu 1.43     clipper 3.15\n",
      "3     clipper 20.01     like 1.29      escrow 2.42\n",
      "3       phone 15.59    thank 1.26   government 2.4\n",
      "3       escrow 13.3     think 1.1       phone 1.99\n",
      "3         nsa 11.28      use 1.08         use 1.77\n",
      "3   algorithm 10.39   window 1.08   algorithm 1.77\n",
      "3         law 10.01      com 1.06     encrypt 1.66\n",
      "Topic 4:\n",
      "                LSA           LDA             NNMF\n",
      "4       drive 49.16    write 1.78       drive 9.47\n",
      "4        scsi 19.62  article 1.48        disk 3.15\n",
      "4         car 17.27     know 1.43        hard 2.17\n",
      "4  controller 12.44      edu 1.37      floppy 2.05\n",
      "4        disk 12.41    thank 1.27         scsi 1.9\n",
      "4        card 11.99     like 1.22  controller 1.44\n",
      "4         hard 11.7   window 1.15     problem 1.41\n",
      "4         buy 10.88    think 1.09         ide 1.39\n",
      "4         ide 10.79       com 1.0        boot 1.38\n",
      "4        speed 9.03      use 0.97       switch 1.1\n",
      "Topic 5:\n",
      "            LSA           LDA             NNMF\n",
      "5     god 30.92    write 1.75         god 7.17\n",
      "5    game 28.46  article 1.44       jesus 2.93\n",
      "5     key 21.98     know 1.43     believe 2.06\n",
      "5    team 18.81      edu 1.34       bible 1.84\n",
      "5    chip 15.95    thank 1.25      people 1.63\n",
      "5  player 12.14     like 1.19        faith 1.6\n",
      "5   jesus 12.06     think 1.1   christian 1.42\n",
      "5    play 11.86   window 1.08      christ 1.41\n",
      "5     win 11.45      com 0.98  christians 1.36\n",
      "5   season 8.34      use 0.96         say 1.23\n",
      "Topic 6:\n",
      "               LSA           LDA             NNMF\n",
      "6     window 20.15    write 1.74         gun 4.92\n",
      "6      drive 17.67  article 1.44         law 1.67\n",
      "6     israel 11.13     know 1.41      weapon 1.47\n",
      "6        gun 10.95      edu 1.34       people 1.4\n",
      "6       scsi 10.29    thank 1.25     firearm 1.33\n",
      "6         dos 9.76     like 1.18       crime 1.28\n",
      "6  government 8.86    think 1.08        right 1.2\n",
      "6         win 8.85   window 1.07    criminal 1.12\n",
      "6     israeli 8.85      com 0.97       state 0.95\n",
      "6        kill 8.42      use 0.96  government 0.92\n",
      "Topic 7:\n",
      "             LSA           LDA          NNMF\n",
      "7     card 41.46    write 1.74     card 8.62\n",
      "7    video 16.43  article 1.44   driver 4.72\n",
      "7   driver 16.27     know 1.41    video 2.74\n",
      "7  monitor 14.27      edu 1.34   window 2.07\n",
      "7    color 10.69    thank 1.25      bus 1.66\n",
      "7       bus 8.06     like 1.18     know 1.37\n",
      "7       vga 7.82    think 1.08  graphic 1.35\n",
      "7      slot 7.38   window 1.07     mode 1.33\n",
      "7     board 7.15      com 0.97  diamond 1.28\n",
      "7      mode 7.12      use 0.95      ati 1.25\n",
      "Topic 8:\n",
      "            LSA           LDA          NNMF\n",
      "8     car 35.05      max 7.69      car 7.96\n",
      "8  window 21.07    write 1.89     drive 1.3\n",
      "8    bike 13.24      edu 1.55   engine 1.23\n",
      "8  driver 11.96     know 1.54      buy 1.21\n",
      "8     god 10.09  article 1.53    write 1.14\n",
      "8      key 9.64    thank 1.31     look 1.09\n",
      "8   engine 8.45     like 1.24  article 1.06\n",
      "8      ride 7.8      scx 1.17     year 1.01\n",
      "8    speed 6.42      bhj 1.16     speed 1.0\n",
      "8      buy 5.69    think 1.12    dealer 1.0\n",
      "Topic 9:\n",
      "             LSA            LDA          NNMF\n",
      "9    write 42.44   write 206.41     write 6.5\n",
      "9  article 40.34  article 170.5  article 6.13\n",
      "9      edu 34.71    know 158.83      edu 5.69\n",
      "9      com 26.91     edu 157.34      com 4.23\n",
      "9     think 9.71    like 143.07    think 2.26\n",
      "9       msg 8.16   think 140.47     know 2.15\n",
      "9     space 7.27  people 131.13   people 1.99\n",
      "9      pitt 6.47    time 116.19     like 1.96\n",
      "9      nasa 6.12     com 116.19      say 1.76\n",
      "9    gordon 6.01     use 113.66      use 1.65\n",
      "Topic 10:\n",
      "              LSA           LDA           NNMF\n",
      "10      gun 29.96    write 1.87    israel 6.52\n",
      "10    weapon 9.36  article 1.52   israeli 4.46\n",
      "10   firearm 9.25     know 1.45      jews 3.08\n",
      "10       law 9.04      edu 1.38      arab 2.38\n",
      "10     crime 7.57    thank 1.27     state 1.72\n",
      "10    people 7.18     like 1.21     arabs 1.68\n",
      "10  criminal 6.54    think 1.11  lebanese 1.67\n",
      "10      file 6.19      use 1.09     right 1.52\n",
      "10   handgun 5.65   window 1.09     peace 1.43\n",
      "10       use 4.89      com 1.06   lebanon 1.43\n",
      "Topic 11:\n",
      "              LSA           LDA             NNMF\n",
      "11    thank 17.71    write 1.77       thank 5.11\n",
      "11      edu 16.27  article 1.44        mail 4.16\n",
      "11     file 15.28     know 1.41        know 2.65\n",
      "11  article 15.08      edu 1.35  appreciate 2.11\n",
      "11   driver 14.92    thank 1.25        post 2.01\n",
      "11    write 13.76     like 1.19     advance 2.01\n",
      "11     mail 12.45    think 1.08        list 1.93\n",
      "11      com 11.84   window 1.07     address 1.79\n",
      "11     card 10.21      use 0.99        info 1.63\n",
      "11       car 9.64      com 0.97        help 1.61\n",
      "Topic 12:\n",
      "            LSA           LDA            NNMF\n",
      "12   file 31.12    write 1.82       file 8.17\n",
      "12    car 12.82  article 1.45     window 2.56\n",
      "12  space 11.91     know 1.43    program 2.06\n",
      "12   card 10.69      edu 1.36        ftp 1.54\n",
      "12   image 9.67    thank 1.28     format 1.47\n",
      "12   color 7.92     like 1.22        dos 1.39\n",
      "12  driver 7.37    think 1.08  directory 1.24\n",
      "12     ftp 7.08   window 1.07        use 1.23\n",
      "12  format 6.61      com 0.99       disk 1.17\n",
      "12    disk 5.54      use 0.95      image 1.17\n",
      "Topic 13:\n",
      "              LSA           LDA          NNMF\n",
      "13      edu 14.63    write 1.89    price 2.92\n",
      "13  article 14.35  article 1.56     sell 2.78\n",
      "13     write 14.1     know 1.55      new 2.67\n",
      "13     sale 13.44      edu 1.43    offer 2.66\n",
      "13      com 12.98    thank 1.28     sale 2.64\n",
      "13      new 11.76     like 1.25     ship 2.11\n",
      "13   window 11.75    think 1.18      buy 1.96\n",
      "13     price 11.6   window 1.16  include 1.81\n",
      "13     sell 11.43     look 1.07      like 1.7\n",
      "13    offer 11.06      com 1.02      use 1.69\n",
      "Topic 14:\n",
      "            LSA           LDA          NNMF\n",
      "14  space 17.84    write 2.08    space 5.12\n",
      "14     card 9.7      edu 2.01     nasa 2.65\n",
      "14    nasa 9.65  article 1.76   launch 1.74\n",
      "14    year 8.36     know 1.55    orbit 1.42\n",
      "14   group 7.37      com 1.53    write 1.37\n",
      "14    post 7.04     like 1.41     moon 1.35\n",
      "14   drive 6.74    thank 1.31     cost 1.26\n",
      "14  window 6.55    think 1.26  shuttle 1.23\n",
      "14  people 5.98     look 1.13  program 1.21\n",
      "14     man 5.85   window 1.09      year 1.2\n",
      "Topic 15:\n",
      "                LSA           LDA             NNMF\n",
      "15        car 21.43    write 1.74        scsi 6.57\n",
      "15       scsi 10.33  article 1.44         ide 2.38\n",
      "15       datum 6.63     know 1.41       drive 2.37\n",
      "15       speed 6.59      edu 1.34  controller 2.01\n",
      "15       israel 6.4    thank 1.25         bus 1.76\n",
      "15       thank 6.04     like 1.18         mac 1.48\n",
      "15         bus 5.97    think 1.08      device 1.25\n",
      "15  appreciate 5.25   window 1.07         isa 1.09\n",
      "15       space 4.89      com 0.97         mhz 1.03\n",
      "15         run 4.85      use 0.95       datum 0.93\n",
      "Topic 16:\n",
      "            LSA           LDA             NNMF\n",
      "16   scsi 12.89    write 1.85        bike 5.27\n",
      "16   file 12.67  article 1.56        ride 2.38\n",
      "16  people 9.13     know 1.54  motorcycle 1.78\n",
      "16      mac 8.2    thank 1.44       rider 1.04\n",
      "16    chip 6.99      edu 1.38          buy 1.0\n",
      "16   price 6.94     like 1.21       write 0.97\n",
      "16     mhz 6.53    think 1.18     article 0.93\n",
      "16   simms 6.01   window 1.07        like 0.85\n",
      "16     bus 5.42      com 1.04        look 0.85\n",
      "16     dos 5.33     work 0.98      helmet 0.82\n",
      "Topic 17:\n",
      "               LSA           LDA             NNMF\n",
      "17        car 9.99    write 1.77    armenian 3.38\n",
      "17  objective 9.67  article 1.47   armenians 3.19\n",
      "17      color 9.23     know 1.41     turkish 3.04\n",
      "17      people 9.1      edu 1.36      armenia 1.9\n",
      "17    morality 8.2    thank 1.27      turkey 1.77\n",
      "17      value 7.88     like 1.19      people 1.75\n",
      "17      think 7.21    retard 1.1       turks 1.56\n",
      "17    turkish 6.99    think 1.09     genocide 1.4\n",
      "17     player 6.89   window 1.07  government 1.28\n",
      "17   armenian 6.41      com 0.97          say 1.1\n",
      "Topic 18:\n",
      "                LSA           LDA            NNMF\n",
      "18       bike 14.16    write 1.81  objective 4.21\n",
      "18        good 9.42  article 1.51    morality 3.6\n",
      "18    question 8.51     know 1.48      moral 2.71\n",
      "18       think 8.23       edu 1.4      value 2.45\n",
      "18       right 6.99    thank 1.28      frank 1.82\n",
      "18        well 6.54     like 1.21      think 1.77\n",
      "18   objective 6.42    think 1.08      write 1.74\n",
      "18        ride 6.37   window 1.08    livesey 1.51\n",
      "18     morality 5.9       use 1.0       mean 1.49\n",
      "18  motorcycle 5.22      com 0.98     people 1.45\n",
      "Topic 19:\n",
      "                LSA           LDA          NNMF\n",
      "19        bike 16.3     write 1.8    color 4.36\n",
      "19        post 10.8     know 1.49  monitor 4.36\n",
      "19         max 9.03  article 1.49   screen 2.55\n",
      "19         key 8.12      edu 1.42  problem 2.24\n",
      "19        game 8.12    thank 1.31  display 2.05\n",
      "19        ride 7.96      like 1.2    image 1.87\n",
      "19        book 6.79   window 1.19   window 1.83\n",
      "19  motorcycle 6.69    think 1.08    video 1.68\n",
      "19        bite 6.39      use 0.99      use 1.67\n",
      "19        group 6.1      com 0.97     card 1.65\n"
     ]
    }
   ],
   "source": [
    "for topic in range(ntopics):\n",
    "    print('Topic {}:'.format(topic))\n",
    "    print(topwords.loc[topic])"
   ]
  },
  {
   "cell_type": "code",
   "execution_count": 32,
   "metadata": {},
   "outputs": [
    {
     "data": {
      "text/plain": [
       "20"
      ]
     },
     "execution_count": 32,
     "metadata": {},
     "output_type": "execute_result"
    }
   ],
   "source": [
    "len(newsgroups.target_names)"
   ]
  },
  {
   "cell_type": "code",
   "execution_count": 35,
   "metadata": {
    "scrolled": false
   },
   "outputs": [
    {
     "data": {
      "image/png": "[encoded data removed]",
      "text/plain": [
       "<Figure size 1440x504 with 1 Axes>"
      ]
     },
     "metadata": {},
     "output_type": "display_data"
    },
    {
     "data": {
      "image/png": "[encoded data removed]",
      "text/plain": [
       "<Figure size 1440x504 with 1 Axes>"
      ]
     },
     "metadata": {},
     "output_type": "display_data"
    },
    {
     "data": {
      "image/png": "[encoded data removed]",
      "text/plain": [
       "<Figure size 1440x504 with 1 Axes>"
      ]
     },
     "metadata": {},
     "output_type": "display_data"
    },
    {
     "data": {
      "image/png": "[encoded data removed]",
      "text/plain": [
       "<Figure size 1440x504 with 1 Axes>"
      ]
     },
     "metadata": {},
     "output_type": "display_data"
    },
    {
     "data": {
      "image/png": "[encoded data removed]",
      "text/plain": [
       "<Figure size 1440x504 with 1 Axes>"
      ]
     },
     "metadata": {},
     "output_type": "display_data"
    }
   ],
   "source": [
    "# The words to look at.\n",
    "targetwords=['write','encryption','game', 'god', 'driver']\n",
    "\n",
    "# Storing the loadings.\n",
    "wordloadings=pd.DataFrame(columns=targetwords)\n",
    "\n",
    "# For each word, extracting and string the loadings for each method.\n",
    "for word in targetwords:\n",
    "    loadings=components_lsa.loc[word].append(\n",
    "        components_lda.loc[word]).append(\n",
    "            components_nmf.loc[word])\n",
    "    wordloadings[word]=loadings\n",
    "\n",
    "# Labeling the data by method and providing an ordering variable for graphing purposes. \n",
    "wordloadings['method']=np.repeat(['LSA','LDA','NNMF'], len(newsgroups.target_names), axis=0)\n",
    "wordloadings['loading']=[0,1,2,3,4,5,6,7,8,9,10,11,12,13,14,15,16,17,18,19]*3\n",
    "\n",
    "sns.set(style=\"darkgrid\")\n",
    "\n",
    "for word in targetwords:\n",
    "    sns.barplot(x=\"method\", y=word, hue=\"loading\", data=wordloadings)\n",
    "    plt.title(word)\n",
    "    plt.ylabel(\"\")\n",
    "    plt.show()"
   ]
  },
  {
   "cell_type": "markdown",
   "metadata": {},
   "source": [
    "LSA is the method most likely to have high loadings on more than one topic for the same word. LDA tends to have one high loading and some lower loadings. Loadings for NNMF are lower all around, and the most sparse, with some of the topics having loadings of zero on each word.\n",
    "\n",
    "According to [NLP for Hackers](https://nlpforhackers.io/topic-modeling/) topic modeling is:\n",
    "\n",
    " - Dimensinality Reduction - We reduce dimensionality by representing a text in its topic space instead of its word space.\n",
    " - Unsupervised Learning - Topic modeling is similar to clustering.\n",
    " - A Form of Tagging - Topic modeling applys multiple tags to a text. (Similar to the tags applied to this kernel above!)\n",
    "\n",
    "Topic modeling is useful for many situations, including text classification."
   ]
  },
  {
   "cell_type": "code",
   "execution_count": null,
   "metadata": {},
   "outputs": [],
   "source": []
  }
 ],
 "metadata": {
  "kernelspec": {
   "display_name": "Python 3",
   "language": "python",
   "name": "python3"
  },
  "language_info": {
   "codemirror_mode": {
    "name": "ipython",
    "version": 3
   },
   "file_extension": ".py",
   "mimetype": "text/x-python",
   "name": "python",
   "nbconvert_exporter": "python",
   "pygments_lexer": "ipython3",
   "version": "3.6.5"
  }
 },
 "nbformat": 4,
 "nbformat_minor": 2
}
